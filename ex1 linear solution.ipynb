{
 "cells": [
  {
   "cell_type": "code",
   "execution_count": 99,
   "metadata": {},
   "outputs": [],
   "source": [
    "no=17\n",
    "g=[1,2,2,3,4,4,9]\n",
    "\n",
    "i=0\n",
    "j=len(g)-1"
   ]
  },
  {
   "cell_type": "code",
   "execution_count": 100,
   "metadata": {},
   "outputs": [],
   "source": [
    "n=0\n",
    "while n<len(g):\n",
    "    if i<0 or j>len(g)-1:\n",
    "        print(\"there is no solution\");\n",
    "    elif g[i]+g[j]==no:\n",
    "        print(g[i],g[j],True);break\n",
    "    elif g[i]+g[j]>no:\n",
    "        j-=1 \n",
    "    elif g[i]+g[j]<no:\n",
    "        i+=1\n",
    "    n+=1    "
   ]
  }
 ],
 "metadata": {
  "kernelspec": {
   "display_name": "Python 3",
   "language": "python",
   "name": "python3"
  },
  "language_info": {
   "codemirror_mode": {
    "name": "ipython",
    "version": 3
   },
   "file_extension": ".py",
   "mimetype": "text/x-python",
   "name": "python",
   "nbconvert_exporter": "python",
   "pygments_lexer": "ipython3",
   "version": "3.7.0"
  }
 },
 "nbformat": 4,
 "nbformat_minor": 2
}
