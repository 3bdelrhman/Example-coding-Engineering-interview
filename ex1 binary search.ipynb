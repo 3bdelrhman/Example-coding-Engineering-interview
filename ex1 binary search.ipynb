{
 "cells": [
  {
   "cell_type": "code",
   "execution_count": 37,
   "metadata": {},
   "outputs": [
    {
     "name": "stdout",
     "output_type": "stream",
     "text": [
      "2 4 True\n"
     ]
    }
   ],
   "source": [
    "no=6\n",
    "g=[1,2,4,4]\n",
    "\n",
    "\n",
    "for j in range(len(g)):\n",
    "    #bs means the differnt between the required number\n",
    "    #and the numbers in set\n",
    "    bs=no-g[j]\n",
    "    \n",
    "    #To start the set from where we finished\n",
    "    a=g[j+1:]\n",
    "    \n",
    "    #Number of searches\n",
    "    l=round((len(a)+1)/2)\n",
    "    \n",
    "    #The location of the number in the binary search\n",
    "    lm=round((len(a)+1)/2)-1\n",
    "    \n",
    "    #binary search\n",
    "    i=0\n",
    "    while i<l:\n",
    "        if bs==a[lm]:\n",
    "            print(g[j],a[lm],True);break\n",
    "        elif no < a[lm]:\n",
    "            lm=round(lm/2)\n",
    "        elif no > a[lm]:\n",
    "            lm=lm+round((((len(a)-1)-lm)+1)/2)\n",
    "        i+=1"
   ]
  },
  {
   "cell_type": "code",
   "execution_count": null,
   "metadata": {},
   "outputs": [],
   "source": []
  }
 ],
 "metadata": {
  "kernelspec": {
   "display_name": "Python 3",
   "language": "python",
   "name": "python3"
  },
  "language_info": {
   "codemirror_mode": {
    "name": "ipython",
    "version": 3
   },
   "file_extension": ".py",
   "mimetype": "text/x-python",
   "name": "python",
   "nbconvert_exporter": "python",
   "pygments_lexer": "ipython3",
   "version": "3.7.0"
  }
 },
 "nbformat": 4,
 "nbformat_minor": 2
}
